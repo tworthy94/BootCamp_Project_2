{
 "cells": [
  {
   "cell_type": "code",
   "execution_count": 10,
   "metadata": {},
   "outputs": [],
   "source": [
    "from bs4 import BeautifulSoup as bs\n",
    "import pandas as pd\n",
    "import psycopg2\n",
    "import requests\n",
    "import csv\n",
    "import wikipedia"
   ]
  },
  {
   "cell_type": "code",
   "execution_count": 23,
   "metadata": {},
   "outputs": [],
   "source": [
    "rock_types = ['Agglomerate', 'Andesite', 'Basalt', 'Basaltic andesite', 'Benmoreite', 'Blairmorite', 'Dacite', 'Felsite', 'Komatiite', 'Latite', 'Leucitite', 'Nephelinite', 'Obsidian', 'Phonolite','Phonotephrite', 'Rhyodacite', 'Rhyolite', 'Tephriphonolite', 'Trachyandesite', 'Trachybasalt', 'Trachyte', 'Tuff']\n",
    "#rock_types = ['Agglomerate', 'Andesite']"
   ]
  },
  {
   "cell_type": "code",
   "execution_count": 24,
   "metadata": {},
   "outputs": [],
   "source": [
    "rock_summary_list = []"
   ]
  },
  {
   "cell_type": "code",
   "execution_count": 25,
   "metadata": {},
   "outputs": [],
   "source": [
    "for rock_type in rock_types:\n",
    "    rock_summary = wikipedia.WikipediaPage(title = rock_type).summary\n",
    "    rock_summary_list.append(rock_summary) "
   ]
  },
  {
   "cell_type": "code",
   "execution_count": 27,
   "metadata": {},
   "outputs": [],
   "source": [
    "rock_dictionary = dict(zip(rock_types, rock_summary_list))"
   ]
  },
  {
   "cell_type": "code",
   "execution_count": 28,
   "metadata": {},
   "outputs": [],
   "source": [
    "rock_df = pd.DataFrame.from_dict(rock_dictionary,orient='index')"
   ]
  },
  {
   "cell_type": "code",
   "execution_count": 29,
   "metadata": {},
   "outputs": [
    {
     "data": {
      "text/html": [
       "<div>\n",
       "<style scoped>\n",
       "    .dataframe tbody tr th:only-of-type {\n",
       "        vertical-align: middle;\n",
       "    }\n",
       "\n",
       "    .dataframe tbody tr th {\n",
       "        vertical-align: top;\n",
       "    }\n",
       "\n",
       "    .dataframe thead th {\n",
       "        text-align: right;\n",
       "    }\n",
       "</style>\n",
       "<table border=\"1\" class=\"dataframe\">\n",
       "  <thead>\n",
       "    <tr style=\"text-align: right;\">\n",
       "      <th></th>\n",
       "      <th>0</th>\n",
       "    </tr>\n",
       "  </thead>\n",
       "  <tbody>\n",
       "    <tr>\n",
       "      <th>Agglomerate</th>\n",
       "      <td>Agglomerate (from the Latin agglomerare meanin...</td>\n",
       "    </tr>\n",
       "    <tr>\n",
       "      <th>Andesite</th>\n",
       "      <td>For the extinct cephalopod genus, see Andesite...</td>\n",
       "    </tr>\n",
       "    <tr>\n",
       "      <th>Basalt</th>\n",
       "      <td>Basalt (US: , UK: ) is a mafic extrusive igneo...</td>\n",
       "    </tr>\n",
       "    <tr>\n",
       "      <th>Basaltic andesite</th>\n",
       "      <td>Basaltic andesite is a volcanic rock containin...</td>\n",
       "    </tr>\n",
       "    <tr>\n",
       "      <th>Benmoreite</th>\n",
       "      <td>Benmoreite is a silica-undersaturated volcanic...</td>\n",
       "    </tr>\n",
       "    <tr>\n",
       "      <th>Blairmorite</th>\n",
       "      <td>Blairmorite is a very rare porphyritic volcani...</td>\n",
       "    </tr>\n",
       "    <tr>\n",
       "      <th>Dacite</th>\n",
       "      <td>Dacite ( ) is an igneous, volcanic rock. It ha...</td>\n",
       "    </tr>\n",
       "    <tr>\n",
       "      <th>Felsite</th>\n",
       "      <td>Felsite is a very fine-grained  volcanic rock ...</td>\n",
       "    </tr>\n",
       "    <tr>\n",
       "      <th>Komatiite</th>\n",
       "      <td>Komatiite ( ) is a type of ultramafic mantle-d...</td>\n",
       "    </tr>\n",
       "    <tr>\n",
       "      <th>Latite</th>\n",
       "      <td>Latite is an igneous, volcanic rock, with apha...</td>\n",
       "    </tr>\n",
       "    <tr>\n",
       "      <th>Leucitite</th>\n",
       "      <td>Leucitite or leucite rock is an igneous rock c...</td>\n",
       "    </tr>\n",
       "    <tr>\n",
       "      <th>Nephelinite</th>\n",
       "      <td>Nephelinite is a fine-grained or aphanitic ign...</td>\n",
       "    </tr>\n",
       "    <tr>\n",
       "      <th>Obsidian</th>\n",
       "      <td>Obsidian is a naturally occurring volcanic gla...</td>\n",
       "    </tr>\n",
       "    <tr>\n",
       "      <th>Phonolite</th>\n",
       "      <td>Phonolite is an uncommon extrusive rock, of in...</td>\n",
       "    </tr>\n",
       "    <tr>\n",
       "      <th>Phonotephrite</th>\n",
       "      <td>Phonotephrite is a strongly alkaline volcanic ...</td>\n",
       "    </tr>\n",
       "    <tr>\n",
       "      <th>Rhyodacite</th>\n",
       "      <td>Rhyodacite is an extrusive volcanic rock inter...</td>\n",
       "    </tr>\n",
       "    <tr>\n",
       "      <th>Rhyolite</th>\n",
       "      <td>Rhyolite is an igneous, volcanic rock, of fels...</td>\n",
       "    </tr>\n",
       "    <tr>\n",
       "      <th>Tephriphonolite</th>\n",
       "      <td>Tephriphonolite is a mafic to intermediate ext...</td>\n",
       "    </tr>\n",
       "    <tr>\n",
       "      <th>Trachyandesite</th>\n",
       "      <td>Trachyandesite is an extrusive igneous rock wi...</td>\n",
       "    </tr>\n",
       "    <tr>\n",
       "      <th>Trachybasalt</th>\n",
       "      <td>Trachybasalt is a volcanic rock with a composi...</td>\n",
       "    </tr>\n",
       "    <tr>\n",
       "      <th>Trachyte</th>\n",
       "      <td>Trachyte is an igneous volcanic rock with an a...</td>\n",
       "    </tr>\n",
       "    <tr>\n",
       "      <th>Tuff</th>\n",
       "      <td>Tuff (from the Italian tufo), also known as vo...</td>\n",
       "    </tr>\n",
       "  </tbody>\n",
       "</table>\n",
       "</div>"
      ],
      "text/plain": [
       "                                                                   0\n",
       "Agglomerate        Agglomerate (from the Latin agglomerare meanin...\n",
       "Andesite           For the extinct cephalopod genus, see Andesite...\n",
       "Basalt             Basalt (US: , UK: ) is a mafic extrusive igneo...\n",
       "Basaltic andesite  Basaltic andesite is a volcanic rock containin...\n",
       "Benmoreite         Benmoreite is a silica-undersaturated volcanic...\n",
       "Blairmorite        Blairmorite is a very rare porphyritic volcani...\n",
       "Dacite             Dacite ( ) is an igneous, volcanic rock. It ha...\n",
       "Felsite            Felsite is a very fine-grained  volcanic rock ...\n",
       "Komatiite          Komatiite ( ) is a type of ultramafic mantle-d...\n",
       "Latite             Latite is an igneous, volcanic rock, with apha...\n",
       "Leucitite          Leucitite or leucite rock is an igneous rock c...\n",
       "Nephelinite        Nephelinite is a fine-grained or aphanitic ign...\n",
       "Obsidian           Obsidian is a naturally occurring volcanic gla...\n",
       "Phonolite          Phonolite is an uncommon extrusive rock, of in...\n",
       "Phonotephrite      Phonotephrite is a strongly alkaline volcanic ...\n",
       "Rhyodacite         Rhyodacite is an extrusive volcanic rock inter...\n",
       "Rhyolite           Rhyolite is an igneous, volcanic rock, of fels...\n",
       "Tephriphonolite    Tephriphonolite is a mafic to intermediate ext...\n",
       "Trachyandesite     Trachyandesite is an extrusive igneous rock wi...\n",
       "Trachybasalt       Trachybasalt is a volcanic rock with a composi...\n",
       "Trachyte           Trachyte is an igneous volcanic rock with an a...\n",
       "Tuff               Tuff (from the Italian tufo), also known as vo..."
      ]
     },
     "execution_count": 29,
     "metadata": {},
     "output_type": "execute_result"
    }
   ],
   "source": [
    "rock_df"
   ]
  },
  {
   "cell_type": "code",
   "execution_count": 30,
   "metadata": {},
   "outputs": [
    {
     "ename": "NameError",
     "evalue": "name 'volcano_df' is not defined",
     "output_type": "error",
     "traceback": [
      "\u001b[1;31m---------------------------------------------------------------------------\u001b[0m",
      "\u001b[1;31mNameError\u001b[0m                                 Traceback (most recent call last)",
      "\u001b[1;32m<ipython-input-30-b5cf53168e85>\u001b[0m in \u001b[0;36m<module>\u001b[1;34m\u001b[0m\n\u001b[1;32m----> 1\u001b[1;33m \u001b[0mvolcano_df\u001b[0m\u001b[1;33m.\u001b[0m\u001b[0mto_csv\u001b[0m\u001b[1;33m(\u001b[0m\u001b[1;34m\"rock_types.csv\"\u001b[0m\u001b[1;33m)\u001b[0m\u001b[1;33m\u001b[0m\u001b[1;33m\u001b[0m\u001b[0m\n\u001b[0m",
      "\u001b[1;31mNameError\u001b[0m: name 'volcano_df' is not defined"
     ]
    }
   ],
   "source": [
    "rock_df.to_csv(\"rock_types.csv\")"
   ]
  },
  {
   "cell_type": "code",
   "execution_count": null,
   "metadata": {},
   "outputs": [],
   "source": []
  }
 ],
 "metadata": {
  "kernelspec": {
   "display_name": "Python 3",
   "language": "python",
   "name": "python3"
  },
  "language_info": {
   "codemirror_mode": {
    "name": "ipython",
    "version": 3
   },
   "file_extension": ".py",
   "mimetype": "text/x-python",
   "name": "python",
   "nbconvert_exporter": "python",
   "pygments_lexer": "ipython3",
   "version": "3.7.3"
  }
 },
 "nbformat": 4,
 "nbformat_minor": 2
}
